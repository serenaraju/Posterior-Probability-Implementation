{
 "cells": [
  {
   "cell_type": "markdown",
   "metadata": {
    "papermill": {
     "duration": 0.019453,
     "end_time": "2021-03-03T15:56:47.259907",
     "exception": false,
     "start_time": "2021-03-03T15:56:47.240454",
     "status": "completed"
    },
    "tags": []
   },
   "source": [
    "# <center>***Posterior Probability*** <br>\n",
    "<center>(coding from scratch)\n"
   ]
  },
  {
   "cell_type": "code",
   "execution_count": 1,
   "metadata": {
    "_cell_guid": "b1076dfc-b9ad-4769-8c92-a6c4dae69d19",
    "_uuid": "8f2839f25d086af736a60e9eeb907d3b93b6e0e5",
    "execution": {
     "iopub.execute_input": "2021-03-03T15:56:47.301251Z",
     "iopub.status.busy": "2021-03-03T15:56:47.300528Z",
     "iopub.status.idle": "2021-03-03T15:56:47.317651Z",
     "shell.execute_reply": "2021-03-03T15:56:47.318261Z"
    },
    "papermill": {
     "duration": 0.039695,
     "end_time": "2021-03-03T15:56:47.318665",
     "exception": false,
     "start_time": "2021-03-03T15:56:47.278970",
     "status": "completed"
    },
    "tags": []
   },
   "outputs": [
    {
     "name": "stdout",
     "output_type": "stream",
     "text": [
      "/kaggle/input/churn-modelling/Churn_Modelling.csv\n"
     ]
    }
   ],
   "source": [
    "\n",
    "\n",
    "import numpy as np # linear algebra\n",
    "import pandas as pd # data processing, CSV file I/O (e.g. pd.read_csv)\n",
    "\n",
    "# Input data files are available in the read-only \"../input/\" directory\n",
    "# For example, running this (by clicking run or pressing Shift+Enter) will list all files under the input directory\n",
    "\n",
    "import os\n",
    "for dirname, _, filenames in os.walk('/kaggle/input'):\n",
    "    for filename in filenames:\n",
    "        print(os.path.join(dirname, filename))\n",
    "\n",
    "# You can write up to 20GB to the current directory (/kaggle/working/) that gets preserved as output when you create a version using \"Save & Run All\" \n",
    "# You can also write temporary files to /kaggle/temp/, but they won't be saved outside of the current session"
   ]
  },
  {
   "cell_type": "markdown",
   "metadata": {
    "papermill": {
     "duration": 0.018045,
     "end_time": "2021-03-03T15:56:47.357920",
     "exception": false,
     "start_time": "2021-03-03T15:56:47.339875",
     "status": "completed"
    },
    "tags": []
   },
   "source": [
    "# Preparing the Dataset for classification"
   ]
  },
  {
   "cell_type": "code",
   "execution_count": 2,
   "metadata": {
    "execution": {
     "iopub.execute_input": "2021-03-03T15:56:47.399431Z",
     "iopub.status.busy": "2021-03-03T15:56:47.398384Z",
     "iopub.status.idle": "2021-03-03T15:56:47.459731Z",
     "shell.execute_reply": "2021-03-03T15:56:47.458807Z"
    },
    "papermill": {
     "duration": 0.08347,
     "end_time": "2021-03-03T15:56:47.459904",
     "exception": false,
     "start_time": "2021-03-03T15:56:47.376434",
     "status": "completed"
    },
    "tags": []
   },
   "outputs": [],
   "source": [
    "data = pd.read_csv('../input/churn-modelling/Churn_Modelling.csv')"
   ]
  },
  {
   "cell_type": "code",
   "execution_count": 3,
   "metadata": {
    "execution": {
     "iopub.execute_input": "2021-03-03T15:56:47.512572Z",
     "iopub.status.busy": "2021-03-03T15:56:47.511850Z",
     "iopub.status.idle": "2021-03-03T15:56:47.534180Z",
     "shell.execute_reply": "2021-03-03T15:56:47.534989Z"
    },
    "papermill": {
     "duration": 0.056411,
     "end_time": "2021-03-03T15:56:47.535208",
     "exception": false,
     "start_time": "2021-03-03T15:56:47.478797",
     "status": "completed"
    },
    "tags": []
   },
   "outputs": [
    {
     "name": "stdout",
     "output_type": "stream",
     "text": [
      "<bound method NDFrame.head of       RowNumber  CustomerId    Surname  CreditScore Geography  Gender  Age  \\\n",
      "0             1    15634602   Hargrave          619    France  Female   42   \n",
      "1             2    15647311       Hill          608     Spain  Female   41   \n",
      "2             3    15619304       Onio          502    France  Female   42   \n",
      "3             4    15701354       Boni          699    France  Female   39   \n",
      "4             5    15737888   Mitchell          850     Spain  Female   43   \n",
      "...         ...         ...        ...          ...       ...     ...  ...   \n",
      "9995       9996    15606229   Obijiaku          771    France    Male   39   \n",
      "9996       9997    15569892  Johnstone          516    France    Male   35   \n",
      "9997       9998    15584532        Liu          709    France  Female   36   \n",
      "9998       9999    15682355  Sabbatini          772   Germany    Male   42   \n",
      "9999      10000    15628319     Walker          792    France  Female   28   \n",
      "\n",
      "      Tenure    Balance  NumOfProducts  HasCrCard  IsActiveMember  \\\n",
      "0          2       0.00              1          1               1   \n",
      "1          1   83807.86              1          0               1   \n",
      "2          8  159660.80              3          1               0   \n",
      "3          1       0.00              2          0               0   \n",
      "4          2  125510.82              1          1               1   \n",
      "...      ...        ...            ...        ...             ...   \n",
      "9995       5       0.00              2          1               0   \n",
      "9996      10   57369.61              1          1               1   \n",
      "9997       7       0.00              1          0               1   \n",
      "9998       3   75075.31              2          1               0   \n",
      "9999       4  130142.79              1          1               0   \n",
      "\n",
      "      EstimatedSalary  Exited  \n",
      "0           101348.88       1  \n",
      "1           112542.58       0  \n",
      "2           113931.57       1  \n",
      "3            93826.63       0  \n",
      "4            79084.10       0  \n",
      "...               ...     ...  \n",
      "9995         96270.64       0  \n",
      "9996        101699.77       0  \n",
      "9997         42085.58       1  \n",
      "9998         92888.52       1  \n",
      "9999         38190.78       0  \n",
      "\n",
      "[10000 rows x 14 columns]>\n"
     ]
    }
   ],
   "source": [
    "print(data.head)"
   ]
  },
  {
   "cell_type": "markdown",
   "metadata": {
    "papermill": {
     "duration": 0.0204,
     "end_time": "2021-03-03T15:56:47.574814",
     "exception": false,
     "start_time": "2021-03-03T15:56:47.554414",
     "status": "completed"
    },
    "tags": []
   },
   "source": [
    "### Setting the required columns"
   ]
  },
  {
   "cell_type": "code",
   "execution_count": 4,
   "metadata": {
    "execution": {
     "iopub.execute_input": "2021-03-03T15:56:47.622694Z",
     "iopub.status.busy": "2021-03-03T15:56:47.621956Z",
     "iopub.status.idle": "2021-03-03T15:56:47.625887Z",
     "shell.execute_reply": "2021-03-03T15:56:47.625308Z"
    },
    "papermill": {
     "duration": 0.031897,
     "end_time": "2021-03-03T15:56:47.626044",
     "exception": false,
     "start_time": "2021-03-03T15:56:47.594147",
     "status": "completed"
    },
    "tags": []
   },
   "outputs": [],
   "source": [
    "req_col = ['CreditScore','Geography','Gender','Age','NumOfProducts','Exited']\n",
    "data = data[req_col]"
   ]
  },
  {
   "cell_type": "markdown",
   "metadata": {
    "papermill": {
     "duration": 0.019602,
     "end_time": "2021-03-03T15:56:47.665352",
     "exception": false,
     "start_time": "2021-03-03T15:56:47.645750",
     "status": "completed"
    },
    "tags": []
   },
   "source": [
    "### Checking the first 5 rows of the DataSet"
   ]
  },
  {
   "cell_type": "code",
   "execution_count": 5,
   "metadata": {
    "execution": {
     "iopub.execute_input": "2021-03-03T15:56:47.718465Z",
     "iopub.status.busy": "2021-03-03T15:56:47.717638Z",
     "iopub.status.idle": "2021-03-03T15:56:47.722117Z",
     "shell.execute_reply": "2021-03-03T15:56:47.721377Z"
    },
    "papermill": {
     "duration": 0.037219,
     "end_time": "2021-03-03T15:56:47.722291",
     "exception": false,
     "start_time": "2021-03-03T15:56:47.685072",
     "status": "completed"
    },
    "tags": []
   },
   "outputs": [
    {
     "data": {
      "text/plain": [
       "<bound method NDFrame.head of       CreditScore Geography  Gender  Age  NumOfProducts  Exited\n",
       "0             619    France  Female   42              1       1\n",
       "1             608     Spain  Female   41              1       0\n",
       "2             502    France  Female   42              3       1\n",
       "3             699    France  Female   39              2       0\n",
       "4             850     Spain  Female   43              1       0\n",
       "...           ...       ...     ...  ...            ...     ...\n",
       "9995          771    France    Male   39              2       0\n",
       "9996          516    France    Male   35              1       0\n",
       "9997          709    France  Female   36              1       1\n",
       "9998          772   Germany    Male   42              2       1\n",
       "9999          792    France  Female   28              1       0\n",
       "\n",
       "[10000 rows x 6 columns]>"
      ]
     },
     "execution_count": 5,
     "metadata": {},
     "output_type": "execute_result"
    }
   ],
   "source": [
    "data.head"
   ]
  },
  {
   "cell_type": "markdown",
   "metadata": {
    "papermill": {
     "duration": 0.020504,
     "end_time": "2021-03-03T15:56:47.762973",
     "exception": false,
     "start_time": "2021-03-03T15:56:47.742469",
     "status": "completed"
    },
    "tags": []
   },
   "source": [
    "### We use this method to gather information about the DataSet"
   ]
  },
  {
   "cell_type": "code",
   "execution_count": 6,
   "metadata": {
    "execution": {
     "iopub.execute_input": "2021-03-03T15:56:47.821936Z",
     "iopub.status.busy": "2021-03-03T15:56:47.821253Z",
     "iopub.status.idle": "2021-03-03T15:56:47.830426Z",
     "shell.execute_reply": "2021-03-03T15:56:47.830961Z"
    },
    "papermill": {
     "duration": 0.047326,
     "end_time": "2021-03-03T15:56:47.831209",
     "exception": false,
     "start_time": "2021-03-03T15:56:47.783883",
     "status": "completed"
    },
    "tags": []
   },
   "outputs": [
    {
     "name": "stdout",
     "output_type": "stream",
     "text": [
      "<class 'pandas.core.frame.DataFrame'>\n",
      "RangeIndex: 10000 entries, 0 to 9999\n",
      "Data columns (total 6 columns):\n",
      " #   Column         Non-Null Count  Dtype \n",
      "---  ------         --------------  ----- \n",
      " 0   CreditScore    10000 non-null  int64 \n",
      " 1   Geography      10000 non-null  object\n",
      " 2   Gender         10000 non-null  object\n",
      " 3   Age            10000 non-null  int64 \n",
      " 4   NumOfProducts  10000 non-null  int64 \n",
      " 5   Exited         10000 non-null  int64 \n",
      "dtypes: int64(4), object(2)\n",
      "memory usage: 468.9+ KB\n"
     ]
    }
   ],
   "source": [
    "data.info()"
   ]
  },
  {
   "cell_type": "code",
   "execution_count": 7,
   "metadata": {
    "execution": {
     "iopub.execute_input": "2021-03-03T15:56:47.875786Z",
     "iopub.status.busy": "2021-03-03T15:56:47.875042Z",
     "iopub.status.idle": "2021-03-03T15:56:47.882190Z",
     "shell.execute_reply": "2021-03-03T15:56:47.882749Z"
    },
    "papermill": {
     "duration": 0.031047,
     "end_time": "2021-03-03T15:56:47.882946",
     "exception": false,
     "start_time": "2021-03-03T15:56:47.851899",
     "status": "completed"
    },
    "tags": []
   },
   "outputs": [],
   "source": [
    "#assign an arbitrary value according to the size of the dataset to get appropriate sections of the dataset\n",
    "val = 5\n",
    "prob = pd.DataFrame(columns = ['Attr','Value','C1','C2','P1','P2'])"
   ]
  },
  {
   "cell_type": "markdown",
   "metadata": {
    "papermill": {
     "duration": 0.021196,
     "end_time": "2021-03-03T15:56:47.925220",
     "exception": false,
     "start_time": "2021-03-03T15:56:47.904024",
     "status": "completed"
    },
    "tags": []
   },
   "source": [
    "### Setting the target\n",
    "We choose Exited as the target since we are classifying the data into Exited or Did Not Exit the Bank"
   ]
  },
  {
   "cell_type": "code",
   "execution_count": 8,
   "metadata": {
    "execution": {
     "iopub.execute_input": "2021-03-03T15:56:47.969772Z",
     "iopub.status.busy": "2021-03-03T15:56:47.969047Z",
     "iopub.status.idle": "2021-03-03T15:56:47.974144Z",
     "shell.execute_reply": "2021-03-03T15:56:47.973571Z"
    },
    "papermill": {
     "duration": 0.028727,
     "end_time": "2021-03-03T15:56:47.974311",
     "exception": false,
     "start_time": "2021-03-03T15:56:47.945584",
     "status": "completed"
    },
    "tags": []
   },
   "outputs": [],
   "source": [
    "target = 'Exited'"
   ]
  },
  {
   "cell_type": "markdown",
   "metadata": {
    "papermill": {
     "duration": 0.020075,
     "end_time": "2021-03-03T15:56:48.014888",
     "exception": false,
     "start_time": "2021-03-03T15:56:47.994813",
     "status": "completed"
    },
    "tags": []
   },
   "source": [
    "### Splitting the dataset into Exited and Did Not Exit"
   ]
  },
  {
   "cell_type": "code",
   "execution_count": 9,
   "metadata": {
    "execution": {
     "iopub.execute_input": "2021-03-03T15:56:48.062113Z",
     "iopub.status.busy": "2021-03-03T15:56:48.061201Z",
     "iopub.status.idle": "2021-03-03T15:56:48.083696Z",
     "shell.execute_reply": "2021-03-03T15:56:48.083016Z"
    },
    "papermill": {
     "duration": 0.048169,
     "end_time": "2021-03-03T15:56:48.083860",
     "exception": false,
     "start_time": "2021-03-03T15:56:48.035691",
     "status": "completed"
    },
    "tags": []
   },
   "outputs": [],
   "source": [
    "#Exited\n",
    "ex = data[data[target]==1]\n",
    "#Did Not Exit\n",
    "nex = data[data[target]==0]"
   ]
  },
  {
   "cell_type": "markdown",
   "metadata": {
    "papermill": {
     "duration": 0.02118,
     "end_time": "2021-03-03T15:56:48.125915",
     "exception": false,
     "start_time": "2021-03-03T15:56:48.104735",
     "status": "completed"
    },
    "tags": []
   },
   "source": [
    "### Checking the shape of both the dataframes"
   ]
  },
  {
   "cell_type": "code",
   "execution_count": 10,
   "metadata": {
    "execution": {
     "iopub.execute_input": "2021-03-03T15:56:48.172881Z",
     "iopub.status.busy": "2021-03-03T15:56:48.171885Z",
     "iopub.status.idle": "2021-03-03T15:56:48.175326Z",
     "shell.execute_reply": "2021-03-03T15:56:48.175896Z"
    },
    "papermill": {
     "duration": 0.029663,
     "end_time": "2021-03-03T15:56:48.176073",
     "exception": false,
     "start_time": "2021-03-03T15:56:48.146410",
     "status": "completed"
    },
    "tags": []
   },
   "outputs": [
    {
     "name": "stdout",
     "output_type": "stream",
     "text": [
      "(7963, 6) (2037, 6)\n"
     ]
    }
   ],
   "source": [
    "print(nex.shape,ex.shape)"
   ]
  },
  {
   "cell_type": "markdown",
   "metadata": {
    "papermill": {
     "duration": 0.020622,
     "end_time": "2021-03-03T15:56:48.217525",
     "exception": false,
     "start_time": "2021-03-03T15:56:48.196903",
     "status": "completed"
    },
    "tags": []
   },
   "source": [
    "### Choose your input. Uncomment the desired input and Comment the desired one"
   ]
  },
  {
   "cell_type": "code",
   "execution_count": 11,
   "metadata": {
    "execution": {
     "iopub.execute_input": "2021-03-03T15:56:48.268083Z",
     "iopub.status.busy": "2021-03-03T15:56:48.267406Z",
     "iopub.status.idle": "2021-03-03T15:56:48.271073Z",
     "shell.execute_reply": "2021-03-03T15:56:48.270395Z"
    },
    "papermill": {
     "duration": 0.03207,
     "end_time": "2021-03-03T15:56:48.271245",
     "exception": false,
     "start_time": "2021-03-03T15:56:48.239175",
     "status": "completed"
    },
    "tags": []
   },
   "outputs": [
    {
     "name": "stdout",
     "output_type": "stream",
     "text": [
      "CreditScore          467\n",
      "Geography        Germany\n",
      "Gender              Male\n",
      "Age                   28\n",
      "NumOfProducts          1\n",
      "Exited                 1\n",
      "Name: 9825, dtype: object\n"
     ]
    }
   ],
   "source": [
    "# For input as Did Not Exit\n",
    "#input_val = nex.iloc[7005,:]\n",
    "#print(input_val)\n",
    "\n",
    "\n",
    "## For input as Exited\n",
    "input_val = ex.iloc[2005,:]\n",
    "print(input_val)"
   ]
  },
  {
   "cell_type": "code",
   "execution_count": 12,
   "metadata": {
    "execution": {
     "iopub.execute_input": "2021-03-03T15:56:48.319568Z",
     "iopub.status.busy": "2021-03-03T15:56:48.318950Z",
     "iopub.status.idle": "2021-03-03T15:56:48.322793Z",
     "shell.execute_reply": "2021-03-03T15:56:48.322254Z"
    },
    "papermill": {
     "duration": 0.02994,
     "end_time": "2021-03-03T15:56:48.322961",
     "exception": false,
     "start_time": "2021-03-03T15:56:48.293021",
     "status": "completed"
    },
    "tags": []
   },
   "outputs": [],
   "source": [
    "nex = nex.iloc[0:2040,:]"
   ]
  },
  {
   "cell_type": "code",
   "execution_count": 13,
   "metadata": {
    "execution": {
     "iopub.execute_input": "2021-03-03T15:56:48.372579Z",
     "iopub.status.busy": "2021-03-03T15:56:48.371916Z",
     "iopub.status.idle": "2021-03-03T15:56:48.377960Z",
     "shell.execute_reply": "2021-03-03T15:56:48.376953Z"
    },
    "papermill": {
     "duration": 0.033316,
     "end_time": "2021-03-03T15:56:48.378228",
     "exception": false,
     "start_time": "2021-03-03T15:56:48.344912",
     "status": "completed"
    },
    "tags": []
   },
   "outputs": [
    {
     "name": "stdout",
     "output_type": "stream",
     "text": [
      "(2040, 6) (2037, 6)\n",
      "P(C1) = 0.49963208241353935 \n",
      " P(C2) = 0.5003679175864606\n"
     ]
    }
   ],
   "source": [
    "print(nex.shape,ex.shape)\n",
    "nex_sh = nex.shape[0]/(ex.shape[0]+nex.shape[0])\n",
    "ex_sh = ex.shape[0]/(ex.shape[0]+nex.shape[0])\n",
    "print(\"P(C1) = {} \\n P(C2) = {}\".format(ex_sh, nex_sh))"
   ]
  },
  {
   "cell_type": "code",
   "execution_count": 14,
   "metadata": {
    "execution": {
     "iopub.execute_input": "2021-03-03T15:56:48.434033Z",
     "iopub.status.busy": "2021-03-03T15:56:48.433375Z",
     "iopub.status.idle": "2021-03-03T15:56:48.435627Z",
     "shell.execute_reply": "2021-03-03T15:56:48.436154Z"
    },
    "papermill": {
     "duration": 0.032787,
     "end_time": "2021-03-03T15:56:48.436317",
     "exception": false,
     "start_time": "2021-03-03T15:56:48.403530",
     "status": "completed"
    },
    "tags": []
   },
   "outputs": [],
   "source": [
    "C1 = []\n",
    "C2 = []"
   ]
  },
  {
   "cell_type": "markdown",
   "metadata": {
    "papermill": {
     "duration": 0.021488,
     "end_time": "2021-03-03T15:56:48.479782",
     "exception": false,
     "start_time": "2021-03-03T15:56:48.458294",
     "status": "completed"
    },
    "tags": []
   },
   "source": [
    "# Step 2: Calculating P(X/Ci) for classes"
   ]
  },
  {
   "cell_type": "code",
   "execution_count": 15,
   "metadata": {
    "execution": {
     "iopub.execute_input": "2021-03-03T15:56:48.546806Z",
     "iopub.status.busy": "2021-03-03T15:56:48.533634Z",
     "iopub.status.idle": "2021-03-03T15:56:48.650414Z",
     "shell.execute_reply": "2021-03-03T15:56:48.649717Z"
    },
    "papermill": {
     "duration": 0.148898,
     "end_time": "2021-03-03T15:56:48.650558",
     "exception": false,
     "start_time": "2021-03-03T15:56:48.501660",
     "status": "completed"
    },
    "tags": []
   },
   "outputs": [],
   "source": [
    "for x in req_col:\n",
    "    \n",
    "    if (data[x].dtype == np.float64 or data[x].dtype == np.int64):\n",
    "        if(len(pd.unique(data[x]))>(val)):\n",
    "            m = data[x].value_counts(bins=3).reset_index().rename(columns={'index':'bin'})\n",
    "            C1 = []\n",
    "            C2 = []\n",
    "            P1 = []\n",
    "            P2 = []\n",
    "            \n",
    "            \n",
    "            for check in m['bin']:\n",
    "               \n",
    "                \n",
    "                t_c1 = int(ex[(check.left <= ex[x]) & (ex[x] <= check.right)].shape[0])\n",
    "                t_p1 = int(ex[(check.left <= ex[x]) & (ex[x] <= check.right)].shape[0])/ex.shape[0]\n",
    "                t_c2 = int(nex[(check.left <= nex[x]) & (nex[x] <= check.right)].shape[0])\n",
    "                t_p2 = int(nex[(check.left <= nex[x]) & (nex[x] <= check.right)].shape[0])/nex.shape[0]\n",
    "    \n",
    "                C1.append(t_c1)\n",
    "                C2.append(t_c2)\n",
    "                P1.append(t_p1)\n",
    "                P2.append(t_p2)\n",
    "            #print(C1,C2,P1,P2)\n",
    "\n",
    "            inc = pd.DataFrame({\"Attr\" : [x,x,x], \"Value\" : m['bin'], \"C1\" : C1, \"C2\" : C2, \"P1\" : P1, \"P2\" : P2})\n",
    "            #print(inc)\n",
    "            prob = prob.append(inc)\n",
    "        else:\n",
    "            C1 = []\n",
    "            C2 = []\n",
    "            P1 = []\n",
    "            P2 = []\n",
    "            uni = data[x].unique()\n",
    "            for check in uni:\n",
    "                if (check in ex[x].value_counts()):\n",
    "                    C1.append(ex[x].value_counts()[check])\n",
    "                    #print(C1)\n",
    "                    P1.append(ex[x].value_counts()[check]/ex.shape[0])\n",
    "                    \n",
    "                else:\n",
    "                    C1.append(0)\n",
    "                    P1.append(0)\n",
    "                    \n",
    "                if (check in nex[x].value_counts()):\n",
    "                    C2.append(nex[x].value_counts()[check])\n",
    "                    #print(C2)\n",
    "                    P2.append(nex[x].value_counts()[check]/nex.shape[0])\n",
    "                    \n",
    "                else:\n",
    "                    C2.append(0)\n",
    "                    P2.append(0)\n",
    "                    \n",
    "                \n",
    "                    \n",
    "            inc = pd.DataFrame({\"Attr\" : [x]*len(uni), \"Value\" : uni, \"C1\" : C1, \"C2\" : C2, \"P1\" : P1, \"P2\" : P2})\n",
    "            prob = prob.append(inc)\n",
    "                \n",
    "    else:\n",
    "        C1 = []\n",
    "        C2 = []\n",
    "        P1 = []\n",
    "        P2 = []\n",
    "        uni = data[x].unique()\n",
    "        for check in uni:\n",
    "            C1.append(ex[x].value_counts()[check])\n",
    "            #print(C1)\n",
    "            C2.append(nex[x].value_counts()[check])\n",
    "            #print(C2)\n",
    "            P1.append(ex[x].value_counts()[check]/ex.shape[0])\n",
    "            P2.append(nex[x].value_counts()[check]/nex.shape[0])    \n",
    "        inc = pd.DataFrame({\"Attr\" : [x]*len(uni), \"Value\" : uni, \"C1\" : C1, \"C2\" : C2, \"P1\" : P1, \"P2\" : P2})\n",
    "        prob = prob.append(inc)\n",
    "        "
   ]
  },
  {
   "cell_type": "code",
   "execution_count": 16,
   "metadata": {
    "execution": {
     "iopub.execute_input": "2021-03-03T15:56:48.701958Z",
     "iopub.status.busy": "2021-03-03T15:56:48.701343Z",
     "iopub.status.idle": "2021-03-03T15:56:48.706295Z",
     "shell.execute_reply": "2021-03-03T15:56:48.705626Z"
    },
    "papermill": {
     "duration": 0.033703,
     "end_time": "2021-03-03T15:56:48.706433",
     "exception": false,
     "start_time": "2021-03-03T15:56:48.672730",
     "status": "completed"
    },
    "tags": []
   },
   "outputs": [],
   "source": [
    "prob = prob.reset_index().drop(['index'],axis = 1)"
   ]
  },
  {
   "cell_type": "markdown",
   "metadata": {
    "papermill": {
     "duration": 0.02201,
     "end_time": "2021-03-03T15:56:48.750842",
     "exception": false,
     "start_time": "2021-03-03T15:56:48.728832",
     "status": "completed"
    },
    "tags": []
   },
   "source": [
    "### Checking and Editing the Input Values to remove the Target Column"
   ]
  },
  {
   "cell_type": "code",
   "execution_count": 17,
   "metadata": {
    "execution": {
     "iopub.execute_input": "2021-03-03T15:56:48.803932Z",
     "iopub.status.busy": "2021-03-03T15:56:48.803290Z",
     "iopub.status.idle": "2021-03-03T15:56:48.807307Z",
     "shell.execute_reply": "2021-03-03T15:56:48.806679Z"
    },
    "papermill": {
     "duration": 0.034256,
     "end_time": "2021-03-03T15:56:48.807443",
     "exception": false,
     "start_time": "2021-03-03T15:56:48.773187",
     "status": "completed"
    },
    "tags": []
   },
   "outputs": [
    {
     "name": "stdout",
     "output_type": "stream",
     "text": [
      "\n",
      "Input Value:\n",
      "CreditScore          467\n",
      "Geography        Germany\n",
      "Gender              Male\n",
      "Age                   28\n",
      "NumOfProducts          1\n",
      "Exited                 1\n",
      "Name: 9825, dtype: object\n",
      "\n",
      "Expected Value:\n",
      "\n",
      "Revised DataFrame\n",
      "CreditScore          467\n",
      "Geography        Germany\n",
      "Gender              Male\n",
      "Age                   28\n",
      "NumOfProducts          1\n",
      "Name: 9825, dtype: object\n"
     ]
    }
   ],
   "source": [
    "print(\"\\nInput Value:\")\n",
    "print(input_val)\n",
    "print(\"\\nExpected Value:\")\n",
    "input_val = input_val.drop(['Exited'])\n",
    "print(\"\\nRevised DataFrame\")\n",
    "print(input_val)"
   ]
  },
  {
   "cell_type": "markdown",
   "metadata": {
    "papermill": {
     "duration": 0.02222,
     "end_time": "2021-03-03T15:56:48.852386",
     "exception": false,
     "start_time": "2021-03-03T15:56:48.830166",
     "status": "completed"
    },
    "tags": []
   },
   "source": [
    "### Calculating the value of P(Ci/X)"
   ]
  },
  {
   "cell_type": "code",
   "execution_count": 18,
   "metadata": {
    "execution": {
     "iopub.execute_input": "2021-03-03T15:56:48.917049Z",
     "iopub.status.busy": "2021-03-03T15:56:48.916312Z",
     "iopub.status.idle": "2021-03-03T15:56:48.919866Z",
     "shell.execute_reply": "2021-03-03T15:56:48.919256Z"
    },
    "papermill": {
     "duration": 0.044896,
     "end_time": "2021-03-03T15:56:48.920013",
     "exception": false,
     "start_time": "2021-03-03T15:56:48.875117",
     "status": "completed"
    },
    "tags": []
   },
   "outputs": [
    {
     "name": "stdout",
     "output_type": "stream",
     "text": [
      "P(X/C1) = 0.004935501467808717\n",
      "P(X/C2) = 0.003915655296871866\n"
     ]
    }
   ],
   "source": [
    "fin_P1 = 1\n",
    "fin_P2 = 1\n",
    "for inin in input_val.index:\n",
    "    answer = prob[(prob['Attr'] == inin)]\n",
    "    #print(answer)\n",
    "    #print(inin)\n",
    "    \n",
    "    for val in answer['Value']:\n",
    "        #print(type(val))\n",
    "        if(isinstance(val, int)):\n",
    "            if(input_val[inin] == val):\n",
    "                ind = answer.index[answer.Value == val]\n",
    "                fin_P2*=float(answer['P2'].loc[ind])\n",
    "                #print(float(answer['P2'].loc[ind]))\n",
    "                fin_P1*=float(answer['P1'].loc[ind])\n",
    "                #print(float(answer['P1'].loc[ind]))\n",
    "            \n",
    "        else:\n",
    "            if(input_val[inin] in val):\n",
    "                ind = answer.index[answer.Value == val]\n",
    "                fin_P2*=float(answer['P2'].loc[ind])\n",
    "                #print(float(answer['P2'].loc[ind]))\n",
    "                fin_P1*=float(answer['P1'].loc[ind])\n",
    "                #print(float(answer['P1'].loc[ind]))\n",
    "print(\"P(X/C1) = {}\".format(fin_P1))         \n",
    "print(\"P(X/C2) = {}\".format(fin_P2))        "
   ]
  },
  {
   "cell_type": "markdown",
   "metadata": {
    "papermill": {
     "duration": 0.02297,
     "end_time": "2021-03-03T15:56:48.966663",
     "exception": false,
     "start_time": "2021-03-03T15:56:48.943693",
     "status": "completed"
    },
    "tags": []
   },
   "source": [
    "# Step 3: Calculating Posterior Probability"
   ]
  },
  {
   "cell_type": "code",
   "execution_count": 19,
   "metadata": {
    "execution": {
     "iopub.execute_input": "2021-03-03T15:56:49.019625Z",
     "iopub.status.busy": "2021-03-03T15:56:49.018643Z",
     "iopub.status.idle": "2021-03-03T15:56:49.022690Z",
     "shell.execute_reply": "2021-03-03T15:56:49.022041Z"
    },
    "papermill": {
     "duration": 0.032835,
     "end_time": "2021-03-03T15:56:49.022829",
     "exception": false,
     "start_time": "2021-03-03T15:56:48.989994",
     "status": "completed"
    },
    "tags": []
   },
   "outputs": [
    {
     "name": "stdout",
     "output_type": "stream",
     "text": [
      "P(C1/X) = 0.004935501467808717 * 0.49963208241353935 = 0.0024659348761163495\n",
      "P(C2/X) = 0.003915655296871866 * 0.5003679175864606 = 0.0019592682868821696\n"
     ]
    }
   ],
   "source": [
    "print(\"P(C1/X) = {} * {} = {}\".format(fin_P1, ex_sh,fin_P1*ex_sh ))\n",
    "print(\"P(C2/X) = {} * {} = {}\".format(fin_P2, nex_sh,fin_P2*nex_sh))"
   ]
  },
  {
   "cell_type": "markdown",
   "metadata": {
    "papermill": {
     "duration": 0.023939,
     "end_time": "2021-03-03T15:56:49.070634",
     "exception": false,
     "start_time": "2021-03-03T15:56:49.046695",
     "status": "completed"
    },
    "tags": []
   },
   "source": [
    "# Conclusion:"
   ]
  },
  {
   "cell_type": "code",
   "execution_count": 20,
   "metadata": {
    "execution": {
     "iopub.execute_input": "2021-03-03T15:56:49.123117Z",
     "iopub.status.busy": "2021-03-03T15:56:49.122455Z",
     "iopub.status.idle": "2021-03-03T15:56:49.125692Z",
     "shell.execute_reply": "2021-03-03T15:56:49.125166Z"
    },
    "papermill": {
     "duration": 0.031451,
     "end_time": "2021-03-03T15:56:49.125839",
     "exception": false,
     "start_time": "2021-03-03T15:56:49.094388",
     "status": "completed"
    },
    "tags": []
   },
   "outputs": [
    {
     "name": "stdout",
     "output_type": "stream",
     "text": [
      "Conclusion: Since P(X) is constant and common for both the classes and the maximum posterior is P(C1/X) = 0.0024659348761163495. Hence tuple/unknown sample gets classified as Exited\n"
     ]
    }
   ],
   "source": [
    "if(fin_P1 * ex_sh > fin_P2 * nex_sh):\n",
    "    print(\"Conclusion: Since P(X) is constant and common for both the classes and the maximum posterior is P(C1/X) = {}. Hence tuple/unknown sample gets classified as Exited\".format(fin_P1*ex_sh))\n",
    "else:\n",
    "    print(\"Conclusion: Since P(X) is constant and common for both the classes and the maximum posterior is P(C2/X) = {}. Hence tuple/unknown sample gets classified as Did Not Exit\".format(fin_P2*nex_sh))"
   ]
  }
 ],
 "metadata": {
  "kernelspec": {
   "display_name": "Python 3",
   "language": "python",
   "name": "python3"
  },
  "language_info": {
   "codemirror_mode": {
    "name": "ipython",
    "version": 3
   },
   "file_extension": ".py",
   "mimetype": "text/x-python",
   "name": "python",
   "nbconvert_exporter": "python",
   "pygments_lexer": "ipython3",
   "version": "3.7.9"
  },
  "papermill": {
   "default_parameters": {},
   "duration": 8.931702,
   "end_time": "2021-03-03T15:56:49.658255",
   "environment_variables": {},
   "exception": null,
   "input_path": "__notebook__.ipynb",
   "output_path": "__notebook__.ipynb",
   "parameters": {},
   "start_time": "2021-03-03T15:56:40.726553",
   "version": "2.2.2"
  }
 },
 "nbformat": 4,
 "nbformat_minor": 4
}
